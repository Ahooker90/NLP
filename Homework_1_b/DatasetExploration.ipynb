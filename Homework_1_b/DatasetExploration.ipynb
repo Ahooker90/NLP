{
 "cells": [
  {
   "cell_type": "code",
   "execution_count": 2,
   "metadata": {},
   "outputs": [],
   "source": [
    "from datasets import load_dataset\n",
    "\n",
    "dataset = load_dataset(\"databricks/databricks-dolly-15k\")"
   ]
  },
  {
   "cell_type": "code",
   "execution_count": 4,
   "metadata": {},
   "outputs": [
    {
     "data": {
      "text/plain": [
       "DatasetDict({\n",
       "    train: Dataset({\n",
       "        features: ['instruction', 'context', 'response', 'category'],\n",
       "        num_rows: 15011\n",
       "    })\n",
       "})"
      ]
     },
     "execution_count": 4,
     "metadata": {},
     "output_type": "execute_result"
    }
   ],
   "source": [
    "dataset"
   ]
  },
  {
   "cell_type": "code",
   "execution_count": 6,
   "metadata": {},
   "outputs": [
    {
     "data": {
      "text/plain": [
       "datasets.arrow_dataset.Dataset"
      ]
     },
     "execution_count": 6,
     "metadata": {},
     "output_type": "execute_result"
    }
   ],
   "source": [
    "type(dataset[\"train\"])"
   ]
  },
  {
   "cell_type": "code",
   "execution_count": 8,
   "metadata": {},
   "outputs": [
    {
     "data": {
      "text/plain": [
       "Dataset({\n",
       "    features: ['instruction', 'context', 'response', 'category'],\n",
       "    num_rows: 15011\n",
       "})"
      ]
     },
     "execution_count": 8,
     "metadata": {},
     "output_type": "execute_result"
    }
   ],
   "source": [
    "td = dataset[\"train\"]\n",
    "td"
   ]
  },
  {
   "cell_type": "code",
   "execution_count": 13,
   "metadata": {},
   "outputs": [
    {
     "name": "stdout",
     "output_type": "stream",
     "text": [
      "When did Virgin Australia start operating?\n",
      "Virgin Australia, the trading name of Virgin Australia Airlines Pty Ltd, is an Australian-based airline. It is the largest airline by fleet size to use the Virgin brand. It commenced services on 31 August 2000 as Virgin Blue, with two aircraft on a single route. It suddenly found itself as a major airline in Australia's domestic market after the collapse of Ansett Australia in September 2001. The airline has since grown to directly serve 32 cities in Australia, from hubs in Brisbane, Melbourne and Sydney.\n",
      "Virgin Australia commenced services on 31 August 2000 as Virgin Blue, with two aircraft on a single route.\n",
      "closed_qa\n"
     ]
    }
   ],
   "source": [
    "print(td[\"instruction\"][0])\n",
    "print(td[\"context\"][0])\n",
    "print(td[\"response\"][0])\n",
    "print(td[\"category\"][0])"
   ]
  },
  {
   "cell_type": "code",
   "execution_count": 18,
   "metadata": {},
   "outputs": [
    {
     "data": {
      "application/vnd.jupyter.widget-view+json": {
       "model_id": "4e9c54eb10914b23ad4463ed68faddd7",
       "version_major": 2,
       "version_minor": 0
      },
      "text/plain": [
       "modules.json:   0%|          | 0.00/349 [00:00<?, ?B/s]"
      ]
     },
     "metadata": {},
     "output_type": "display_data"
    },
    {
     "data": {
      "application/vnd.jupyter.widget-view+json": {
       "model_id": "5eb1f8bb94bd411181db499b14dd5a81",
       "version_major": 2,
       "version_minor": 0
      },
      "text/plain": [
       "config_sentence_transformers.json:   0%|          | 0.00/116 [00:00<?, ?B/s]"
      ]
     },
     "metadata": {},
     "output_type": "display_data"
    },
    {
     "data": {
      "application/vnd.jupyter.widget-view+json": {
       "model_id": "639c133ee4544f5ba4d6f4557eb95ff8",
       "version_major": 2,
       "version_minor": 0
      },
      "text/plain": [
       "README.md:   0%|          | 0.00/10.7k [00:00<?, ?B/s]"
      ]
     },
     "metadata": {},
     "output_type": "display_data"
    },
    {
     "data": {
      "application/vnd.jupyter.widget-view+json": {
       "model_id": "5ed105b97dc54a66a2d78490072383ff",
       "version_major": 2,
       "version_minor": 0
      },
      "text/plain": [
       "sentence_bert_config.json:   0%|          | 0.00/53.0 [00:00<?, ?B/s]"
      ]
     },
     "metadata": {},
     "output_type": "display_data"
    },
    {
     "data": {
      "application/vnd.jupyter.widget-view+json": {
       "model_id": "4a3df2257913455dbe89b01b495943b8",
       "version_major": 2,
       "version_minor": 0
      },
      "text/plain": [
       "config.json:   0%|          | 0.00/612 [00:00<?, ?B/s]"
      ]
     },
     "metadata": {},
     "output_type": "display_data"
    },
    {
     "name": "stderr",
     "output_type": "stream",
     "text": [
      "c:\\Users\\ahook\\.conda\\envs\\NLP_311\\Lib\\site-packages\\transformers\\utils\\generic.py:260: UserWarning: torch.utils._pytree._register_pytree_node is deprecated. Please use torch.utils._pytree.register_pytree_node instead.\n",
      "  torch.utils._pytree._register_pytree_node(\n"
     ]
    },
    {
     "data": {
      "application/vnd.jupyter.widget-view+json": {
       "model_id": "355e4c5096404adfb44b15f4ac4882ce",
       "version_major": 2,
       "version_minor": 0
      },
      "text/plain": [
       "pytorch_model.bin:   0%|          | 0.00/90.9M [00:00<?, ?B/s]"
      ]
     },
     "metadata": {},
     "output_type": "display_data"
    },
    {
     "data": {
      "application/vnd.jupyter.widget-view+json": {
       "model_id": "1dd3ff6b61764258a0952457a91c4140",
       "version_major": 2,
       "version_minor": 0
      },
      "text/plain": [
       "tokenizer_config.json:   0%|          | 0.00/350 [00:00<?, ?B/s]"
      ]
     },
     "metadata": {},
     "output_type": "display_data"
    },
    {
     "data": {
      "application/vnd.jupyter.widget-view+json": {
       "model_id": "64bc73ba63594cd28cdc1b5a052c64d3",
       "version_major": 2,
       "version_minor": 0
      },
      "text/plain": [
       "vocab.txt:   0%|          | 0.00/232k [00:00<?, ?B/s]"
      ]
     },
     "metadata": {},
     "output_type": "display_data"
    },
    {
     "data": {
      "application/vnd.jupyter.widget-view+json": {
       "model_id": "f875c74188244ddfb557a446b7567554",
       "version_major": 2,
       "version_minor": 0
      },
      "text/plain": [
       "tokenizer.json:   0%|          | 0.00/466k [00:00<?, ?B/s]"
      ]
     },
     "metadata": {},
     "output_type": "display_data"
    },
    {
     "data": {
      "application/vnd.jupyter.widget-view+json": {
       "model_id": "b22deeebb3de46728895406b91e2d081",
       "version_major": 2,
       "version_minor": 0
      },
      "text/plain": [
       "special_tokens_map.json:   0%|          | 0.00/112 [00:00<?, ?B/s]"
      ]
     },
     "metadata": {},
     "output_type": "display_data"
    },
    {
     "data": {
      "application/vnd.jupyter.widget-view+json": {
       "model_id": "da6fea5ccaf04f36986fed1fa24e5608",
       "version_major": 2,
       "version_minor": 0
      },
      "text/plain": [
       "1_Pooling/config.json:   0%|          | 0.00/190 [00:00<?, ?B/s]"
      ]
     },
     "metadata": {},
     "output_type": "display_data"
    }
   ],
   "source": [
    "import torch\n",
    "from sentence_transformers import SentenceTransformer\n",
    "device = 'cuda' if torch.cuda.is_available() else 'cpu'\n",
    "if device != 'cuda':\n",
    "    print(\"Sorry No Cuda.\")\n",
    "    \n",
    "model = SentenceTransformer('all-MiniLM-L6-v2', device = device)"
   ]
  },
  {
   "cell_type": "code",
   "execution_count": 20,
   "metadata": {},
   "outputs": [
    {
     "data": {
      "text/plain": [
       "array([ 2.84337588e-02,  1.02833165e-02,  1.00195594e-01,  5.84614053e-02,\n",
       "       -3.18413749e-02, -2.32181922e-02,  9.52944458e-02, -1.50358863e-02,\n",
       "       -8.26108828e-03,  3.66508514e-02, -4.57955487e-02, -1.45918280e-02,\n",
       "        3.14034335e-02, -3.81915607e-02,  4.62358966e-02,  9.86723043e-03,\n",
       "        5.74844070e-02, -5.78343496e-02, -1.29639268e-01,  4.34806347e-02,\n",
       "        9.63502243e-05, -2.10689586e-02, -2.13579070e-02,  7.89524391e-02,\n",
       "       -3.22398171e-02, -4.36663330e-02,  7.82172848e-03,  1.74395684e-02,\n",
       "       -1.98418144e-02, -5.28494306e-02, -4.39419597e-02,  9.17469263e-02,\n",
       "        3.23799625e-03, -4.46873456e-02, -5.02448864e-02, -1.53355366e-02,\n",
       "       -4.68158396e-03, -1.52588814e-01, -2.51027849e-02, -1.42619228e-02,\n",
       "        5.36280044e-04,  7.37706898e-03,  2.28264555e-02,  9.98303201e-03,\n",
       "        8.85952637e-02, -9.53642726e-02,  1.50441946e-02,  3.90382595e-02,\n",
       "        7.20561817e-02, -9.37854219e-03, -1.08866200e-01, -7.05836201e-03,\n",
       "        1.09363040e-02,  4.76809330e-02,  5.00023887e-02,  2.55009672e-03,\n",
       "       -7.81207755e-02, -1.37095712e-02,  7.45281279e-02, -3.16357128e-02,\n",
       "       -2.35232618e-02,  3.07931341e-02, -4.73986827e-02, -2.13183407e-02,\n",
       "        2.14143172e-02, -1.25386957e-02, -5.27948961e-02, -5.21945097e-02,\n",
       "       -2.17461735e-02, -3.25044547e-03, -2.20250804e-02, -4.06577624e-02,\n",
       "        1.27513586e-02,  3.86715010e-02, -3.21215093e-02, -6.71266541e-02,\n",
       "        4.81606945e-02, -4.68699560e-02,  5.78913689e-02,  3.63436826e-02,\n",
       "        8.11889395e-02, -6.97426647e-02, -1.39560048e-02, -4.82193008e-03,\n",
       "       -2.13698391e-02, -4.63375896e-02,  3.10531929e-02,  3.67181003e-02,\n",
       "       -2.29431689e-02, -4.54016849e-02, -2.77483277e-02,  7.30125159e-02,\n",
       "        6.05941452e-02,  1.00274859e-02, -4.25145328e-02, -4.89328988e-02,\n",
       "        1.08169258e-01, -4.46830131e-03, -8.16078857e-02,  1.57396704e-01,\n",
       "        3.35517619e-03,  1.15152784e-01,  1.51104294e-02,  3.22333239e-02,\n",
       "       -1.81399030e-03,  9.23261121e-02, -8.51228759e-02,  8.71082395e-02,\n",
       "       -3.39881442e-02, -5.68078980e-02,  1.80448201e-02, -4.56012003e-02,\n",
       "       -2.23258827e-02, -5.03715612e-02,  3.31228003e-02,  2.17649024e-02,\n",
       "        6.42173514e-02,  5.32171428e-02,  1.55183105e-02, -3.04205753e-02,\n",
       "       -5.65384002e-03,  2.38735462e-04,  2.72801090e-02, -3.18247229e-02,\n",
       "       -2.28531118e-02, -2.04252861e-02,  5.09053729e-02, -5.32181484e-33,\n",
       "        6.55421540e-02, -3.11283488e-02,  7.50951767e-02,  9.17521268e-02,\n",
       "       -1.61710680e-01, -2.49855127e-02, -8.50747433e-03, -1.14278290e-02,\n",
       "        7.37843162e-04, -4.85540926e-02,  4.14669998e-02, -4.21013236e-02,\n",
       "       -4.49886583e-02,  2.48493366e-02, -3.25034074e-02, -4.91186343e-02,\n",
       "        1.28429560e-02,  1.65128335e-02, -1.06177099e-01,  1.12800792e-01,\n",
       "       -7.90240690e-02, -8.43642205e-02,  3.19448137e-03,  8.93483236e-02,\n",
       "        5.46675548e-02, -2.56841932e-03, -2.28304025e-02, -1.57663882e-01,\n",
       "       -3.66297998e-02,  8.51596054e-03,  5.10180332e-02, -1.73991942e-03,\n",
       "        4.57901619e-02, -3.70719954e-02, -2.52777115e-02, -5.25357574e-02,\n",
       "       -2.82503031e-02, -2.80494019e-02, -1.30427424e-02,  2.94576045e-02,\n",
       "        2.10887920e-02,  1.30619546e-02,  9.55533683e-02, -2.29849238e-02,\n",
       "       -2.23001521e-02,  3.36336531e-02, -3.49357091e-02,  6.61642989e-03,\n",
       "        8.93235905e-04, -2.18696631e-02, -1.15324304e-01, -2.16872692e-02,\n",
       "       -7.43572339e-02,  1.37503364e-03, -1.74982175e-02, -5.31717353e-02,\n",
       "        1.11135766e-02, -1.76614523e-02,  2.59987861e-02,  1.23292670e-01,\n",
       "        5.66839240e-02,  8.47569183e-02, -1.83501914e-02, -5.92273995e-02,\n",
       "       -9.63431820e-02, -6.26115948e-02, -1.60351023e-02, -1.10044302e-02,\n",
       "        9.43341106e-02, -5.01360260e-02, -3.84939723e-02, -6.83710910e-03,\n",
       "       -2.71439198e-02,  5.18601537e-02,  1.62449272e-04,  6.03132285e-02,\n",
       "        2.21426692e-02, -2.41291579e-02,  1.24408836e-02, -5.66936173e-02,\n",
       "        2.97307968e-02,  9.40449759e-02, -1.30709941e-02, -4.47873473e-02,\n",
       "        2.39497479e-02, -1.76365618e-02, -1.00454271e-01, -7.55696967e-02,\n",
       "       -1.11107454e-02,  1.21283485e-02, -5.05666882e-02,  4.94954884e-02,\n",
       "        1.01348065e-01, -6.87908232e-02,  1.85524300e-02,  9.06683037e-34,\n",
       "        1.06574625e-01,  3.44919190e-02, -1.01746097e-01, -2.92996387e-03,\n",
       "       -1.27350956e-01, -5.22055402e-02, -6.52391277e-03,  1.03928894e-01,\n",
       "       -4.41827578e-03,  1.58937890e-02,  4.85595949e-02, -1.67855918e-02,\n",
       "        1.69983599e-02, -1.90125182e-02,  3.14033739e-02, -1.92187224e-02,\n",
       "        1.08960092e-01,  1.31755807e-02, -3.73917967e-02,  2.58035101e-02,\n",
       "       -3.24087292e-02,  6.40011430e-02, -6.71259388e-02,  2.62712520e-02,\n",
       "       -3.71822529e-02, -6.35858402e-02,  2.63297278e-02,  5.64698912e-02,\n",
       "       -5.71692511e-02,  4.06462350e-04, -3.58584424e-04, -6.43873885e-02,\n",
       "       -1.82897709e-02,  7.05171824e-02,  1.89601127e-02,  1.91413499e-02,\n",
       "       -1.88101214e-04, -6.15469925e-02, -2.21161582e-02, -7.24930987e-02,\n",
       "       -8.32329243e-02, -1.19675389e-02, -3.47109996e-02,  3.89275737e-02,\n",
       "        4.94860373e-02, -1.93212368e-02,  6.01334870e-02,  1.07303411e-02,\n",
       "       -1.48224728e-02,  5.28239943e-02, -1.96356084e-02, -2.07371525e-02,\n",
       "       -1.21975569e-02, -2.42448528e-03, -1.30045535e-02, -1.41556906e-02,\n",
       "       -1.71889346e-02, -1.68785956e-02, -3.00102076e-03, -3.86754908e-02,\n",
       "        3.63427261e-03,  2.67204531e-02,  6.65491039e-04,  1.05923653e-01,\n",
       "        6.03885837e-02,  2.28913445e-02, -7.51372194e-03, -4.86994125e-02,\n",
       "       -4.70859595e-02, -3.18417139e-02, -1.16352223e-01,  6.59496104e-03,\n",
       "        4.54698391e-02,  1.25567168e-02,  1.52174653e-02,  2.03312039e-02,\n",
       "        1.39865549e-02, -4.37031779e-03,  4.18146839e-04, -7.97626199e-05,\n",
       "       -5.81831262e-02,  2.91254241e-02,  2.35922020e-02, -1.02203444e-01,\n",
       "       -1.00380793e-01, -4.03702669e-02,  1.09656498e-01,  3.48502537e-04,\n",
       "        5.05563468e-02,  1.53857702e-02,  5.30453119e-03,  4.87990454e-02,\n",
       "       -2.52219792e-02,  1.76635552e-02,  6.32435083e-02, -2.39927580e-08,\n",
       "        5.79738580e-02, -4.97996109e-03,  1.96945872e-02,  2.03851890e-02,\n",
       "        1.37576042e-02,  3.76233868e-02, -1.56254303e-02, -5.63481310e-03,\n",
       "       -3.56269144e-02, -2.61139981e-02, -5.26332622e-03,  1.92685314e-02,\n",
       "       -8.72595087e-02, -9.54142958e-02,  1.72958486e-02, -5.05332053e-02,\n",
       "        9.65469033e-02,  9.61432606e-02, -6.62576929e-02, -8.84187967e-02,\n",
       "        6.16829433e-02,  3.32621075e-02, -4.36527841e-02,  1.03399627e-01,\n",
       "        1.29067735e-03,  2.94652744e-03,  3.16339992e-02, -3.48136611e-02,\n",
       "       -3.08078323e-02,  2.37938575e-02,  5.94535396e-02,  8.36698487e-02,\n",
       "       -3.01049855e-02,  1.16647233e-03, -6.01615431e-03, -6.21109493e-02,\n",
       "        3.28198075e-02, -1.16163790e-02,  4.60963175e-02, -1.11049050e-02,\n",
       "       -1.40185636e-02, -4.97981347e-02, -5.10481186e-02, -2.31567025e-02,\n",
       "        3.54710333e-02,  1.86164491e-02,  9.24387276e-02, -7.88194239e-02,\n",
       "        1.03435153e-02, -2.91795116e-02, -7.13168755e-02, -2.14929003e-02,\n",
       "        3.72540988e-02,  1.34896990e-02,  4.53736223e-02,  4.51912396e-02,\n",
       "       -1.87960789e-02,  1.05275093e-02,  4.42431960e-03,  1.12089412e-02,\n",
       "        3.93637083e-02, -1.63712930e-02, -7.19083324e-02,  9.27814841e-03],\n",
       "      dtype=float32)"
      ]
     },
     "execution_count": 20,
     "metadata": {},
     "output_type": "execute_result"
    }
   ],
   "source": [
    "model.encode(\"HI HOW ARE YOU??????\")"
   ]
  },
  {
   "cell_type": "code",
   "execution_count": 21,
   "metadata": {},
   "outputs": [
    {
     "ename": "NameError",
     "evalue": "name 'ans' is not defined",
     "output_type": "error",
     "traceback": [
      "\u001b[1;31m---------------------------------------------------------------------------\u001b[0m",
      "\u001b[1;31mNameError\u001b[0m                                 Traceback (most recent call last)",
      "Cell \u001b[1;32mIn[21], line 1\u001b[0m\n\u001b[1;32m----> 1\u001b[0m \u001b[38;5;28mtype\u001b[39m(ans)\n",
      "\u001b[1;31mNameError\u001b[0m: name 'ans' is not defined"
     ]
    }
   ],
   "source": []
  },
  {
   "cell_type": "code",
   "execution_count": null,
   "metadata": {},
   "outputs": [],
   "source": []
  }
 ],
 "metadata": {
  "kernelspec": {
   "display_name": "NLP_311",
   "language": "python",
   "name": "python3"
  },
  "language_info": {
   "codemirror_mode": {
    "name": "ipython",
    "version": 3
   },
   "file_extension": ".py",
   "mimetype": "text/x-python",
   "name": "python",
   "nbconvert_exporter": "python",
   "pygments_lexer": "ipython3",
   "version": "3.11.7"
  }
 },
 "nbformat": 4,
 "nbformat_minor": 2
}
